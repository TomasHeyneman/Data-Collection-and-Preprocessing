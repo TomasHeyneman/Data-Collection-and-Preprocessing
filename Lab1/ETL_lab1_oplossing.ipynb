{
 "cells": [
  {
   "cell_type": "markdown",
   "metadata": {},
   "source": [
    "# Labo 1 - ETL met Python (pETL)"
   ]
  },
  {
   "cell_type": "markdown",
   "metadata": {},
   "source": [
    "pETL is een python package specifiek voor ETL taken.  Meer info: <br />\n",
    "Extract & load: http://petl.readthedocs.io/en/latest/io.html <br/>\n",
    "Transform: http://petl.readthedocs.io/en/latest/transform.html "
   ]
  },
  {
   "cell_type": "code",
   "execution_count": 2,
   "metadata": {},
   "outputs": [],
   "source": [
    "import petl as etl"
   ]
  },
  {
   "cell_type": "markdown",
   "metadata": {},
   "source": [
    "## Extract"
   ]
  },
  {
   "cell_type": "markdown",
   "metadata": {},
   "source": [
    "#### Extract JSON bestand en weergeven"
   ]
  },
  {
   "cell_type": "code",
   "execution_count": 3,
   "metadata": {},
   "outputs": [],
   "source": [
    "filename = 'drinks.json'"
   ]
  },
  {
   "cell_type": "code",
   "execution_count": 4,
   "metadata": {},
   "outputs": [
    {
     "data": {
      "text/html": [
       "<table class='petl'>\n",
       "<thead>\n",
       "<tr>\n",
       "<th>country</th>\n",
       "<th>continent</th>\n",
       "<th>total_pure_alcohol</th>\n",
       "<th>servings</th>\n",
       "</tr>\n",
       "</thead>\n",
       "<tbody>\n",
       "<tr>\n",
       "<td>Afghanistan</td>\n",
       "<td>AS</td>\n",
       "<td>0.0 Litres</td>\n",
       "<td>[beer:0, spirit:0, wine:0]</td>\n",
       "</tr>\n",
       "<tr>\n",
       "<td>Albania</td>\n",
       "<td>EU</td>\n",
       "<td>4.9 Litres</td>\n",
       "<td>[beer:89, spirit:132, wine:54]</td>\n",
       "</tr>\n",
       "<tr>\n",
       "<td>Algeria</td>\n",
       "<td>AF</td>\n",
       "<td>0.7 Litres</td>\n",
       "<td>[beer:25, spirit:0, wine:14]</td>\n",
       "</tr>\n",
       "<tr>\n",
       "<td>Andorra</td>\n",
       "<td>EU</td>\n",
       "<td>12.4 Litres</td>\n",
       "<td>[beer:245, spirit:138, wine:312]</td>\n",
       "</tr>\n",
       "<tr>\n",
       "<td>Angola</td>\n",
       "<td>AF</td>\n",
       "<td>5.9 Litres</td>\n",
       "<td>[beer:217, spirit:57, wine:45]</td>\n",
       "</tr>\n",
       "<tr>\n",
       "<td>Antigua & Barbuda</td>\n",
       "<td>None</td>\n",
       "<td>4.9 Litres</td>\n",
       "<td>[beer:102, spirit:128, wine:45]</td>\n",
       "</tr>\n",
       "<tr>\n",
       "<td>Argentina</td>\n",
       "<td>SA</td>\n",
       "<td>8.3 Litres</td>\n",
       "<td>[beer:193, spirit:25, wine:221]</td>\n",
       "</tr>\n",
       "<tr>\n",
       "<td>Armenia</td>\n",
       "<td>EU</td>\n",
       "<td>3.8 Litres</td>\n",
       "<td>[beer:21, spirit:179, wine:11]</td>\n",
       "</tr>\n",
       "<tr>\n",
       "<td>Australia</td>\n",
       "<td>OC</td>\n",
       "<td>10.4 Litres</td>\n",
       "<td>[beer:261, spirit:72, wine:212]</td>\n",
       "</tr>\n",
       "<tr>\n",
       "<td>Austria</td>\n",
       "<td>EU</td>\n",
       "<td>9.7 Litres</td>\n",
       "<td>[beer:279, spirit:75, wine:191]</td>\n",
       "</tr>\n",
       "</tbody>\n",
       "</table>\n",
       "<p><strong>...</strong></p>"
      ]
     },
     "metadata": {},
     "output_type": "display_data"
    }
   ],
   "source": [
    "t1 = etl.fromjson(filename)\n",
    "t1.display(10)"
   ]
  },
  {
   "cell_type": "markdown",
   "metadata": {},
   "source": [
    "Een voordeel van het gebruik van Petl is de lage memory consumption, daarnaast kan Petl de data direct uit zip bestanden inlezen!"
   ]
  },
  {
   "cell_type": "code",
   "execution_count": 5,
   "metadata": {},
   "outputs": [
    {
     "data": {
      "text/html": [
       "<table class='petl'>\n",
       "<thead>\n",
       "<tr>\n",
       "<th>country</th>\n",
       "<th>continent</th>\n",
       "<th>total_pure_alcohol</th>\n",
       "<th>servings</th>\n",
       "</tr>\n",
       "</thead>\n",
       "<tbody>\n",
       "<tr>\n",
       "<td>Afghanistan</td>\n",
       "<td>AS</td>\n",
       "<td>0.0 Litres</td>\n",
       "<td>[beer:0, spirit:0, wine:0]</td>\n",
       "</tr>\n",
       "<tr>\n",
       "<td>Albania</td>\n",
       "<td>EU</td>\n",
       "<td>4.9 Litres</td>\n",
       "<td>[beer:89, spirit:132, wine:54]</td>\n",
       "</tr>\n",
       "<tr>\n",
       "<td>Algeria</td>\n",
       "<td>AF</td>\n",
       "<td>0.7 Litres</td>\n",
       "<td>[beer:25, spirit:0, wine:14]</td>\n",
       "</tr>\n",
       "<tr>\n",
       "<td>Andorra</td>\n",
       "<td>EU</td>\n",
       "<td>12.4 Litres</td>\n",
       "<td>[beer:245, spirit:138, wine:312]</td>\n",
       "</tr>\n",
       "<tr>\n",
       "<td>Angola</td>\n",
       "<td>AF</td>\n",
       "<td>5.9 Litres</td>\n",
       "<td>[beer:217, spirit:57, wine:45]</td>\n",
       "</tr>\n",
       "</tbody>\n",
       "</table>\n",
       "<p><strong>...</strong></p>"
      ]
     },
     "metadata": {},
     "output_type": "display_data"
    }
   ],
   "source": [
    "source = etl.sources.ZipSource('drinks.zip', 'drinks.json')\n",
    "etl.fromjson(source).display()"
   ]
  },
  {
   "cell_type": "markdown",
   "metadata": {},
   "source": [
    "#### Het aantal records bekijken"
   ]
  },
  {
   "cell_type": "code",
   "execution_count": 6,
   "metadata": {},
   "outputs": [
    {
     "data": {
      "text/plain": [
       "193"
      ]
     },
     "execution_count": 6,
     "metadata": {},
     "output_type": "execute_result"
    }
   ],
   "source": [
    "t1.nrows()"
   ]
  },
  {
   "cell_type": "markdown",
   "metadata": {},
   "source": [
    "#### Alle kolommen inlezen"
   ]
  },
  {
   "cell_type": "code",
   "execution_count": 7,
   "metadata": {},
   "outputs": [
    {
     "name": "stdout",
     "output_type": "stream",
     "text": [
      "('country', 'continent', 'total_pure_alcohol', 'servings')\n"
     ]
    }
   ],
   "source": [
    "fields = t1.fieldnames()\n",
    "print(fields)"
   ]
  },
  {
   "cell_type": "markdown",
   "metadata": {},
   "source": [
    "#### Benaderen van een specifieke waarde"
   ]
  },
  {
   "cell_type": "code",
   "execution_count": 8,
   "metadata": {},
   "outputs": [
    {
     "name": "stdout",
     "output_type": "stream",
     "text": [
      "EU\n"
     ]
    }
   ],
   "source": [
    "print(t1[2][1])"
   ]
  },
  {
   "cell_type": "markdown",
   "metadata": {},
   "source": [
    "Of met behulp van slicen"
   ]
  },
  {
   "cell_type": "code",
   "execution_count": 9,
   "metadata": {},
   "outputs": [
    {
     "name": "stdout",
     "output_type": "stream",
     "text": [
      "4.9 Litres\n"
     ]
    }
   ],
   "source": [
    "# print specifieke waarde m.b.v. slicen\n",
    "print(t1['total_pure_alcohol'][1])"
   ]
  },
  {
   "cell_type": "markdown",
   "metadata": {},
   "source": [
    "#### Types van kolommen ophalen"
   ]
  },
  {
   "cell_type": "code",
   "execution_count": 10,
   "metadata": {},
   "outputs": [
    {
     "name": "stdout",
     "output_type": "stream",
     "text": [
      "country \t Counter({'str': 193})\n",
      "continent \t Counter({'str': 170, 'NoneType': 23})\n",
      "total_pure_alcohol \t Counter({'str': 193})\n",
      "servings \t Counter({'str': 193})\n"
     ]
    }
   ],
   "source": [
    "# for lus om alle velden op te halen en bijhorend de types\n",
    "for f in fields:\n",
    "    print(f, '\\t', t1.typecounter(f))"
   ]
  },
  {
   "cell_type": "markdown",
   "metadata": {},
   "source": [
    "Een aantal problemen die in onze data voorkomen: \n",
    "<ul>\n",
    "    <li>total alcohol is een string en geen getal (integer)</li>\n",
    "    <li>servings is een unicode string en geen list of dictionary</li>\n",
    "    <li>continent kan lege waarden bevatten</li>\n",
    "</ul>  "
   ]
  },
  {
   "cell_type": "markdown",
   "metadata": {},
   "source": [
    "## Transform "
   ]
  },
  {
   "cell_type": "markdown",
   "metadata": {},
   "source": [
    "#### Functie definiëren om total_pure_alcohol te converteren naar float "
   ]
  },
  {
   "cell_type": "code",
   "execution_count": 11,
   "metadata": {},
   "outputs": [
    {
     "name": "stdout",
     "output_type": "stream",
     "text": [
      "4.9\n"
     ]
    }
   ],
   "source": [
    "def to_float(text):\n",
    "    return float(text[:-7])\n",
    "print(to_float('4.9 Litres'))"
   ]
  },
  {
   "cell_type": "markdown",
   "metadata": {},
   "source": [
    "#### Functie uitvoeren op elke rij"
   ]
  },
  {
   "cell_type": "code",
   "execution_count": 12,
   "metadata": {},
   "outputs": [],
   "source": [
    "t2 = t1.convert('total_pure_alcohol', to_float)"
   ]
  },
  {
   "cell_type": "code",
   "execution_count": 13,
   "metadata": {},
   "outputs": [
    {
     "name": "stdout",
     "output_type": "stream",
     "text": [
      "Counter({'float': 193})\n"
     ]
    },
    {
     "data": {
      "text/html": [
       "<table class='petl'>\n",
       "<thead>\n",
       "<tr>\n",
       "<th>country</th>\n",
       "<th>continent</th>\n",
       "<th>total_pure_alcohol</th>\n",
       "<th>servings</th>\n",
       "</tr>\n",
       "</thead>\n",
       "<tbody>\n",
       "<tr>\n",
       "<td>Afghanistan</td>\n",
       "<td>AS</td>\n",
       "<td style='text-align: right'>0.0</td>\n",
       "<td>[beer:0, spirit:0, wine:0]</td>\n",
       "</tr>\n",
       "<tr>\n",
       "<td>Albania</td>\n",
       "<td>EU</td>\n",
       "<td style='text-align: right'>4.9</td>\n",
       "<td>[beer:89, spirit:132, wine:54]</td>\n",
       "</tr>\n",
       "<tr>\n",
       "<td>Algeria</td>\n",
       "<td>AF</td>\n",
       "<td style='text-align: right'>0.7</td>\n",
       "<td>[beer:25, spirit:0, wine:14]</td>\n",
       "</tr>\n",
       "<tr>\n",
       "<td>Andorra</td>\n",
       "<td>EU</td>\n",
       "<td style='text-align: right'>12.4</td>\n",
       "<td>[beer:245, spirit:138, wine:312]</td>\n",
       "</tr>\n",
       "<tr>\n",
       "<td>Angola</td>\n",
       "<td>AF</td>\n",
       "<td style='text-align: right'>5.9</td>\n",
       "<td>[beer:217, spirit:57, wine:45]</td>\n",
       "</tr>\n",
       "<tr>\n",
       "<td>Antigua & Barbuda</td>\n",
       "<td>None</td>\n",
       "<td style='text-align: right'>4.9</td>\n",
       "<td>[beer:102, spirit:128, wine:45]</td>\n",
       "</tr>\n",
       "<tr>\n",
       "<td>Argentina</td>\n",
       "<td>SA</td>\n",
       "<td style='text-align: right'>8.3</td>\n",
       "<td>[beer:193, spirit:25, wine:221]</td>\n",
       "</tr>\n",
       "<tr>\n",
       "<td>Armenia</td>\n",
       "<td>EU</td>\n",
       "<td style='text-align: right'>3.8</td>\n",
       "<td>[beer:21, spirit:179, wine:11]</td>\n",
       "</tr>\n",
       "<tr>\n",
       "<td>Australia</td>\n",
       "<td>OC</td>\n",
       "<td style='text-align: right'>10.4</td>\n",
       "<td>[beer:261, spirit:72, wine:212]</td>\n",
       "</tr>\n",
       "<tr>\n",
       "<td>Austria</td>\n",
       "<td>EU</td>\n",
       "<td style='text-align: right'>9.7</td>\n",
       "<td>[beer:279, spirit:75, wine:191]</td>\n",
       "</tr>\n",
       "</tbody>\n",
       "</table>\n",
       "<p><strong>...</strong></p>"
      ]
     },
     "metadata": {},
     "output_type": "display_data"
    }
   ],
   "source": [
    "print(t2.typecounter('total_pure_alcohol'))\n",
    "t2.display(10)"
   ]
  },
  {
   "cell_type": "markdown",
   "metadata": {},
   "source": [
    "#### Editeren van het servings veld "
   ]
  },
  {
   "cell_type": "markdown",
   "metadata": {},
   "source": [
    "Wij starten met een conversie van string -> dictionary <br/>\n",
    "Het dictionary type is een bruikbare datastructuur voor de volgende stappen, wij kunnen het benaderen via \"keys\" en \"values\""
   ]
  },
  {
   "cell_type": "code",
   "execution_count": 14,
   "metadata": {},
   "outputs": [
    {
     "name": "stdout",
     "output_type": "stream",
     "text": [
      "[beer:102, spirit:128, wine:45]\n",
      "<class 'str'>\n"
     ]
    }
   ],
   "source": [
    "# controleren van de inhoud van de servings kolom op een willekeurige waarde\n",
    "sample = t2['servings'][5]\n",
    "print(sample)\n",
    "print(type(sample))"
   ]
  },
  {
   "cell_type": "code",
   "execution_count": 15,
   "metadata": {},
   "outputs": [
    {
     "name": "stdout",
     "output_type": "stream",
     "text": [
      "{'beer': 102, 'spirit': 128, 'wine': 45}\n",
      "<class 'dict'>\n"
     ]
    }
   ],
   "source": [
    "def to_dict(text):\n",
    "    if text[0]=='[' and text[-1]==']':\n",
    "        items = text[1:-1].split(', ') #values -> list\n",
    "    else:\n",
    "        return None\n",
    "    output = {}\n",
    "    for i in items:\n",
    "        key, value = i.split(':')\n",
    "        output[key] = int(value)\n",
    "    return output\n",
    "\n",
    "print(to_dict(sample))\n",
    "print(type(to_dict(sample)))"
   ]
  },
  {
   "cell_type": "code",
   "execution_count": 16,
   "metadata": {},
   "outputs": [
    {
     "data": {
      "text/plain": [
       "Counter({'dict': 193})"
      ]
     },
     "execution_count": 16,
     "metadata": {},
     "output_type": "execute_result"
    }
   ],
   "source": [
    "# volledige lijst converteren\n",
    "t3 = t2.convert('servings', to_dict)\n",
    "t3.typecounter('servings')"
   ]
  },
  {
   "cell_type": "markdown",
   "metadata": {},
   "source": [
    "#### Unpack servings (converteren van iterable object naar aantal velden) "
   ]
  },
  {
   "cell_type": "code",
   "execution_count": 17,
   "metadata": {},
   "outputs": [
    {
     "data": {
      "text/html": [
       "<table class='petl'>\n",
       "<thead>\n",
       "<tr>\n",
       "<th>country</th>\n",
       "<th>continent</th>\n",
       "<th>total_pure_alcohol</th>\n",
       "<th>beer</th>\n",
       "<th>spirit</th>\n",
       "<th>wine</th>\n",
       "</tr>\n",
       "</thead>\n",
       "<tbody>\n",
       "<tr>\n",
       "<td>Afghanistan</td>\n",
       "<td>AS</td>\n",
       "<td style='text-align: right'>0.0</td>\n",
       "<td style='text-align: right'>0</td>\n",
       "<td style='text-align: right'>0</td>\n",
       "<td style='text-align: right'>0</td>\n",
       "</tr>\n",
       "<tr>\n",
       "<td>Albania</td>\n",
       "<td>EU</td>\n",
       "<td style='text-align: right'>4.9</td>\n",
       "<td style='text-align: right'>89</td>\n",
       "<td style='text-align: right'>132</td>\n",
       "<td style='text-align: right'>54</td>\n",
       "</tr>\n",
       "<tr>\n",
       "<td>Algeria</td>\n",
       "<td>AF</td>\n",
       "<td style='text-align: right'>0.7</td>\n",
       "<td style='text-align: right'>25</td>\n",
       "<td style='text-align: right'>0</td>\n",
       "<td style='text-align: right'>14</td>\n",
       "</tr>\n",
       "<tr>\n",
       "<td>Andorra</td>\n",
       "<td>EU</td>\n",
       "<td style='text-align: right'>12.4</td>\n",
       "<td style='text-align: right'>245</td>\n",
       "<td style='text-align: right'>138</td>\n",
       "<td style='text-align: right'>312</td>\n",
       "</tr>\n",
       "<tr>\n",
       "<td>Angola</td>\n",
       "<td>AF</td>\n",
       "<td style='text-align: right'>5.9</td>\n",
       "<td style='text-align: right'>217</td>\n",
       "<td style='text-align: right'>57</td>\n",
       "<td style='text-align: right'>45</td>\n",
       "</tr>\n",
       "</tbody>\n",
       "</table>\n",
       "<p><strong>...</strong></p>"
      ]
     },
     "metadata": {},
     "output_type": "display_data"
    }
   ],
   "source": [
    "t4 = t3.unpackdict('servings')\n",
    "t4.display(5)"
   ]
  },
  {
   "cell_type": "markdown",
   "metadata": {},
   "source": [
    "Meer info over de \"unpacking\": http://petl.readthedocs.io/en/latest/transform.html#unpacking-compound-values"
   ]
  },
  {
   "cell_type": "markdown",
   "metadata": {},
   "source": [
    "#### Toevoegen van een nieuw veld 'total price' "
   ]
  },
  {
   "cell_type": "code",
   "execution_count": 18,
   "metadata": {},
   "outputs": [],
   "source": [
    "def total_serving(row):\n",
    "    return row['beer']+row['spirit']+row['wine']"
   ]
  },
  {
   "cell_type": "code",
   "execution_count": 19,
   "metadata": {},
   "outputs": [
    {
     "data": {
      "text/html": [
       "<table class='petl'>\n",
       "<thead>\n",
       "<tr>\n",
       "<th>country</th>\n",
       "<th>continent</th>\n",
       "<th>total_pure_alcohol</th>\n",
       "<th>beer</th>\n",
       "<th>spirit</th>\n",
       "<th>wine</th>\n",
       "<th>total_serving</th>\n",
       "</tr>\n",
       "</thead>\n",
       "<tbody>\n",
       "<tr>\n",
       "<td>Afghanistan</td>\n",
       "<td>AS</td>\n",
       "<td style='text-align: right'>0.0</td>\n",
       "<td style='text-align: right'>0</td>\n",
       "<td style='text-align: right'>0</td>\n",
       "<td style='text-align: right'>0</td>\n",
       "<td style='text-align: right'>0</td>\n",
       "</tr>\n",
       "<tr>\n",
       "<td>Albania</td>\n",
       "<td>EU</td>\n",
       "<td style='text-align: right'>4.9</td>\n",
       "<td style='text-align: right'>89</td>\n",
       "<td style='text-align: right'>132</td>\n",
       "<td style='text-align: right'>54</td>\n",
       "<td style='text-align: right'>275</td>\n",
       "</tr>\n",
       "<tr>\n",
       "<td>Algeria</td>\n",
       "<td>AF</td>\n",
       "<td style='text-align: right'>0.7</td>\n",
       "<td style='text-align: right'>25</td>\n",
       "<td style='text-align: right'>0</td>\n",
       "<td style='text-align: right'>14</td>\n",
       "<td style='text-align: right'>39</td>\n",
       "</tr>\n",
       "<tr>\n",
       "<td>Andorra</td>\n",
       "<td>EU</td>\n",
       "<td style='text-align: right'>12.4</td>\n",
       "<td style='text-align: right'>245</td>\n",
       "<td style='text-align: right'>138</td>\n",
       "<td style='text-align: right'>312</td>\n",
       "<td style='text-align: right'>695</td>\n",
       "</tr>\n",
       "<tr>\n",
       "<td>Angola</td>\n",
       "<td>AF</td>\n",
       "<td style='text-align: right'>5.9</td>\n",
       "<td style='text-align: right'>217</td>\n",
       "<td style='text-align: right'>57</td>\n",
       "<td style='text-align: right'>45</td>\n",
       "<td style='text-align: right'>319</td>\n",
       "</tr>\n",
       "<tr>\n",
       "<td>Antigua & Barbuda</td>\n",
       "<td>None</td>\n",
       "<td style='text-align: right'>4.9</td>\n",
       "<td style='text-align: right'>102</td>\n",
       "<td style='text-align: right'>128</td>\n",
       "<td style='text-align: right'>45</td>\n",
       "<td style='text-align: right'>275</td>\n",
       "</tr>\n",
       "<tr>\n",
       "<td>Argentina</td>\n",
       "<td>SA</td>\n",
       "<td style='text-align: right'>8.3</td>\n",
       "<td style='text-align: right'>193</td>\n",
       "<td style='text-align: right'>25</td>\n",
       "<td style='text-align: right'>221</td>\n",
       "<td style='text-align: right'>439</td>\n",
       "</tr>\n",
       "<tr>\n",
       "<td>Armenia</td>\n",
       "<td>EU</td>\n",
       "<td style='text-align: right'>3.8</td>\n",
       "<td style='text-align: right'>21</td>\n",
       "<td style='text-align: right'>179</td>\n",
       "<td style='text-align: right'>11</td>\n",
       "<td style='text-align: right'>211</td>\n",
       "</tr>\n",
       "<tr>\n",
       "<td>Australia</td>\n",
       "<td>OC</td>\n",
       "<td style='text-align: right'>10.4</td>\n",
       "<td style='text-align: right'>261</td>\n",
       "<td style='text-align: right'>72</td>\n",
       "<td style='text-align: right'>212</td>\n",
       "<td style='text-align: right'>545</td>\n",
       "</tr>\n",
       "<tr>\n",
       "<td>Austria</td>\n",
       "<td>EU</td>\n",
       "<td style='text-align: right'>9.7</td>\n",
       "<td style='text-align: right'>279</td>\n",
       "<td style='text-align: right'>75</td>\n",
       "<td style='text-align: right'>191</td>\n",
       "<td style='text-align: right'>545</td>\n",
       "</tr>\n",
       "</tbody>\n",
       "</table>\n",
       "<p><strong>...</strong></p>"
      ]
     },
     "metadata": {},
     "output_type": "display_data"
    }
   ],
   "source": [
    "t5 = t4.addfield('total_serving', total_serving)\n",
    "t5.display(10)"
   ]
  },
  {
   "cell_type": "markdown",
   "metadata": {},
   "source": [
    "#### Knippen van een deeltabel uit de volledige countries tabel"
   ]
  },
  {
   "cell_type": "code",
   "execution_count": 20,
   "metadata": {},
   "outputs": [
    {
     "data": {
      "text/html": [
       "<table class='petl'>\n",
       "<thead>\n",
       "<tr>\n",
       "<th>country</th>\n",
       "<th>continent</th>\n",
       "<th>total_pure_alcohol</th>\n",
       "<th>total_serving</th>\n",
       "</tr>\n",
       "</thead>\n",
       "<tbody>\n",
       "<tr>\n",
       "<td>Afghanistan</td>\n",
       "<td>AS</td>\n",
       "<td style='text-align: right'>0.0</td>\n",
       "<td style='text-align: right'>0</td>\n",
       "</tr>\n",
       "<tr>\n",
       "<td>Albania</td>\n",
       "<td>EU</td>\n",
       "<td style='text-align: right'>4.9</td>\n",
       "<td style='text-align: right'>275</td>\n",
       "</tr>\n",
       "<tr>\n",
       "<td>Algeria</td>\n",
       "<td>AF</td>\n",
       "<td style='text-align: right'>0.7</td>\n",
       "<td style='text-align: right'>39</td>\n",
       "</tr>\n",
       "<tr>\n",
       "<td>Andorra</td>\n",
       "<td>EU</td>\n",
       "<td style='text-align: right'>12.4</td>\n",
       "<td style='text-align: right'>695</td>\n",
       "</tr>\n",
       "<tr>\n",
       "<td>Angola</td>\n",
       "<td>AF</td>\n",
       "<td style='text-align: right'>5.9</td>\n",
       "<td style='text-align: right'>319</td>\n",
       "</tr>\n",
       "</tbody>\n",
       "</table>\n",
       "<p><strong>...</strong></p>"
      ]
     },
     "metadata": {},
     "output_type": "display_data"
    }
   ],
   "source": [
    "out_countries = t5.cut(['country', 'continent', 'total_pure_alcohol', 'total_serving'])\n",
    "out_countries.display()"
   ]
  },
  {
   "cell_type": "markdown",
   "metadata": {},
   "source": [
    "#### Converteren van een rij in meerdere rijen "
   ]
  },
  {
   "cell_type": "code",
   "execution_count": 21,
   "metadata": {},
   "outputs": [
    {
     "data": {
      "text/html": [
       "<table class='petl'>\n",
       "<thead>\n",
       "<tr>\n",
       "<th>country</th>\n",
       "<th>beer</th>\n",
       "<th>wine</th>\n",
       "<th>spirit</th>\n",
       "</tr>\n",
       "</thead>\n",
       "<tbody>\n",
       "<tr>\n",
       "<td>Afghanistan</td>\n",
       "<td style='text-align: right'>0</td>\n",
       "<td style='text-align: right'>0</td>\n",
       "<td style='text-align: right'>0</td>\n",
       "</tr>\n",
       "<tr>\n",
       "<td>Albania</td>\n",
       "<td style='text-align: right'>89</td>\n",
       "<td style='text-align: right'>54</td>\n",
       "<td style='text-align: right'>132</td>\n",
       "</tr>\n",
       "<tr>\n",
       "<td>Algeria</td>\n",
       "<td style='text-align: right'>25</td>\n",
       "<td style='text-align: right'>14</td>\n",
       "<td style='text-align: right'>0</td>\n",
       "</tr>\n",
       "<tr>\n",
       "<td>Andorra</td>\n",
       "<td style='text-align: right'>245</td>\n",
       "<td style='text-align: right'>312</td>\n",
       "<td style='text-align: right'>138</td>\n",
       "</tr>\n",
       "<tr>\n",
       "<td>Angola</td>\n",
       "<td style='text-align: right'>217</td>\n",
       "<td style='text-align: right'>45</td>\n",
       "<td style='text-align: right'>57</td>\n",
       "</tr>\n",
       "</tbody>\n",
       "</table>\n",
       "<p><strong>...</strong></p>"
      ]
     },
     "metadata": {},
     "output_type": "display_data"
    }
   ],
   "source": [
    "# knippen van de noodzakelijke kolommen\n",
    "t6 = t5.cut(['country', 'beer', 'wine', 'spirit'])\n",
    "t6.display()"
   ]
  },
  {
   "cell_type": "code",
   "execution_count": 22,
   "metadata": {},
   "outputs": [
    {
     "data": {
      "text/html": [
       "<table class='petl'>\n",
       "<thead>\n",
       "<tr>\n",
       "<th>country</th>\n",
       "<th>variable</th>\n",
       "<th>value</th>\n",
       "</tr>\n",
       "</thead>\n",
       "<tbody>\n",
       "<tr>\n",
       "<td>Afghanistan</td>\n",
       "<td>beer</td>\n",
       "<td style='text-align: right'>0</td>\n",
       "</tr>\n",
       "<tr>\n",
       "<td>Afghanistan</td>\n",
       "<td>wine</td>\n",
       "<td style='text-align: right'>0</td>\n",
       "</tr>\n",
       "<tr>\n",
       "<td>Afghanistan</td>\n",
       "<td>spirit</td>\n",
       "<td style='text-align: right'>0</td>\n",
       "</tr>\n",
       "<tr>\n",
       "<td>Albania</td>\n",
       "<td>beer</td>\n",
       "<td style='text-align: right'>89</td>\n",
       "</tr>\n",
       "<tr>\n",
       "<td>Albania</td>\n",
       "<td>wine</td>\n",
       "<td style='text-align: right'>54</td>\n",
       "</tr>\n",
       "<tr>\n",
       "<td>Albania</td>\n",
       "<td>spirit</td>\n",
       "<td style='text-align: right'>132</td>\n",
       "</tr>\n",
       "</tbody>\n",
       "</table>\n",
       "<p><strong>...</strong></p>"
      ]
     },
     "metadata": {},
     "output_type": "display_data"
    }
   ],
   "source": [
    "# melting (row -> rows)\n",
    "t7 = t6.melt(key=['country'])\n",
    "t7.display(6)"
   ]
  },
  {
   "cell_type": "code",
   "execution_count": 23,
   "metadata": {},
   "outputs": [
    {
     "data": {
      "text/html": [
       "<table class='petl'>\n",
       "<thead>\n",
       "<tr>\n",
       "<th>row</th>\n",
       "<th>country</th>\n",
       "<th>variable</th>\n",
       "<th>value</th>\n",
       "</tr>\n",
       "</thead>\n",
       "<tbody>\n",
       "<tr>\n",
       "<td style='text-align: right'>1</td>\n",
       "<td>Albania</td>\n",
       "<td>beer</td>\n",
       "<td style='text-align: right'>89</td>\n",
       "</tr>\n",
       "<tr>\n",
       "<td style='text-align: right'>2</td>\n",
       "<td>Albania</td>\n",
       "<td>wine</td>\n",
       "<td style='text-align: right'>54</td>\n",
       "</tr>\n",
       "<tr>\n",
       "<td style='text-align: right'>3</td>\n",
       "<td>Albania</td>\n",
       "<td>spirit</td>\n",
       "<td style='text-align: right'>132</td>\n",
       "</tr>\n",
       "<tr>\n",
       "<td style='text-align: right'>4</td>\n",
       "<td>Algeria</td>\n",
       "<td>beer</td>\n",
       "<td style='text-align: right'>25</td>\n",
       "</tr>\n",
       "<tr>\n",
       "<td style='text-align: right'>5</td>\n",
       "<td>Algeria</td>\n",
       "<td>wine</td>\n",
       "<td style='text-align: right'>14</td>\n",
       "</tr>\n",
       "</tbody>\n",
       "</table>\n",
       "<p><strong>...</strong></p>"
      ]
     },
     "metadata": {},
     "output_type": "display_data"
    }
   ],
   "source": [
    "# filteren van nulwaarden en toevoegen van row_numbers\n",
    "t8 = t7.selectisnot('value',0)\n",
    "t9 = t8.addrownumbers()\n",
    "t9.display()"
   ]
  },
  {
   "cell_type": "code",
   "execution_count": 24,
   "metadata": {},
   "outputs": [
    {
     "data": {
      "text/html": [
       "<table class='petl'>\n",
       "<thead>\n",
       "<tr>\n",
       "<th>s_id</th>\n",
       "<th>country</th>\n",
       "<th>type</th>\n",
       "<th>servings</th>\n",
       "</tr>\n",
       "</thead>\n",
       "<tbody>\n",
       "<tr>\n",
       "<td style='text-align: right'>1</td>\n",
       "<td>Albania</td>\n",
       "<td>beer</td>\n",
       "<td style='text-align: right'>89</td>\n",
       "</tr>\n",
       "<tr>\n",
       "<td style='text-align: right'>2</td>\n",
       "<td>Albania</td>\n",
       "<td>wine</td>\n",
       "<td style='text-align: right'>54</td>\n",
       "</tr>\n",
       "<tr>\n",
       "<td style='text-align: right'>3</td>\n",
       "<td>Albania</td>\n",
       "<td>spirit</td>\n",
       "<td style='text-align: right'>132</td>\n",
       "</tr>\n",
       "<tr>\n",
       "<td style='text-align: right'>4</td>\n",
       "<td>Algeria</td>\n",
       "<td>beer</td>\n",
       "<td style='text-align: right'>25</td>\n",
       "</tr>\n",
       "<tr>\n",
       "<td style='text-align: right'>5</td>\n",
       "<td>Algeria</td>\n",
       "<td>wine</td>\n",
       "<td style='text-align: right'>14</td>\n",
       "</tr>\n",
       "</tbody>\n",
       "</table>\n",
       "<p><strong>...</strong></p>"
      ]
     },
     "metadata": {},
     "output_type": "display_data"
    }
   ],
   "source": [
    "# hernoemen van kolommen\n",
    "out_servings = t9.rename({'row':'s_id', 'variable':'type', 'value':'servings'})\n",
    "out_servings.display()"
   ]
  },
  {
   "cell_type": "code",
   "execution_count": 27,
   "metadata": {},
   "outputs": [
    {
     "data": {
      "text/html": [
       "<table class='petl'>\n",
       "<thead>\n",
       "<tr>\n",
       "<th>c_country</th>\n",
       "<th>c_continent</th>\n",
       "<th>c_total_pure_alcohol</th>\n",
       "<th>c_total_serving</th>\n",
       "<th>serv_s_id</th>\n",
       "<th>serv_type</th>\n",
       "<th>serv_servings</th>\n",
       "</tr>\n",
       "</thead>\n",
       "<tbody>\n",
       "<tr>\n",
       "<td>Albania</td>\n",
       "<td>EU</td>\n",
       "<td style='text-align: right'>4.9</td>\n",
       "<td style='text-align: right'>275</td>\n",
       "<td style='text-align: right'>1</td>\n",
       "<td>beer</td>\n",
       "<td style='text-align: right'>89</td>\n",
       "</tr>\n",
       "<tr>\n",
       "<td>Albania</td>\n",
       "<td>EU</td>\n",
       "<td style='text-align: right'>4.9</td>\n",
       "<td style='text-align: right'>275</td>\n",
       "<td style='text-align: right'>2</td>\n",
       "<td>wine</td>\n",
       "<td style='text-align: right'>54</td>\n",
       "</tr>\n",
       "<tr>\n",
       "<td>Albania</td>\n",
       "<td>EU</td>\n",
       "<td style='text-align: right'>4.9</td>\n",
       "<td style='text-align: right'>275</td>\n",
       "<td style='text-align: right'>3</td>\n",
       "<td>spirit</td>\n",
       "<td style='text-align: right'>132</td>\n",
       "</tr>\n",
       "<tr>\n",
       "<td>Algeria</td>\n",
       "<td>AF</td>\n",
       "<td style='text-align: right'>0.7</td>\n",
       "<td style='text-align: right'>39</td>\n",
       "<td style='text-align: right'>4</td>\n",
       "<td>beer</td>\n",
       "<td style='text-align: right'>25</td>\n",
       "</tr>\n",
       "<tr>\n",
       "<td>Algeria</td>\n",
       "<td>AF</td>\n",
       "<td style='text-align: right'>0.7</td>\n",
       "<td style='text-align: right'>39</td>\n",
       "<td style='text-align: right'>5</td>\n",
       "<td>wine</td>\n",
       "<td style='text-align: right'>14</td>\n",
       "</tr>\n",
       "</tbody>\n",
       "</table>\n",
       "<p><strong>...</strong></p>"
      ],
      "text/plain": [
       "+-----------+-------------+----------------------+-----------------+-----------+-----------+---------------+\n",
       "| c_country | c_continent | c_total_pure_alcohol | c_total_serving | serv_s_id | serv_type | serv_servings |\n",
       "+===========+=============+======================+=================+===========+===========+===============+\n",
       "| 'Albania' | 'EU'        |                  4.9 |             275 |         1 | 'beer'    |            89 |\n",
       "+-----------+-------------+----------------------+-----------------+-----------+-----------+---------------+\n",
       "| 'Albania' | 'EU'        |                  4.9 |             275 |         2 | 'wine'    |            54 |\n",
       "+-----------+-------------+----------------------+-----------------+-----------+-----------+---------------+\n",
       "| 'Albania' | 'EU'        |                  4.9 |             275 |         3 | 'spirit'  |           132 |\n",
       "+-----------+-------------+----------------------+-----------------+-----------+-----------+---------------+\n",
       "| 'Algeria' | 'AF'        |                  0.7 |              39 |         4 | 'beer'    |            25 |\n",
       "+-----------+-------------+----------------------+-----------------+-----------+-----------+---------------+\n",
       "| 'Algeria' | 'AF'        |                  0.7 |              39 |         5 | 'wine'    |            14 |\n",
       "+-----------+-------------+----------------------+-----------------+-----------+-----------+---------------+\n",
       "..."
      ]
     },
     "execution_count": 27,
     "metadata": {},
     "output_type": "execute_result"
    }
   ],
   "source": [
    "# controle bij joinen van tabellen in logische uitvoer\n",
    "out_countries.join(out_servings, #rechtertabel\n",
    "                   lkey='country', rkey='country', #joinen van gelijke kolommen\n",
    "                   lprefix='c_', rprefix='serv_') #prefixen van kolommen"
   ]
  },
  {
   "cell_type": "markdown",
   "metadata": {},
   "source": [
    "De uitgebreide Transform library kan gecombineerd worden met meer interne en externe functies. Het is aangewezen om de documentatie te bekijken van de volgende acties die mogelijk zijn: <br/>\n",
    "<ul>\n",
    "    <li>Cat/Stack</li>\n",
    "    <li>Select family</li>\n",
    "    <li>Sort</li>\n",
    "    <li>Join/Leftjoin/Rightjoin/Outerjoin/Crossjoin</li>\n",
    "    <li>Unjoin</li>\n",
    "    <li>Unique/Duplicates/Distinct</li>\n",
    "    <li>Aggregate</li>\n",
    "</ul>"
   ]
  },
  {
   "cell_type": "code",
   "execution_count": 28,
   "metadata": {},
   "outputs": [
    {
     "data": {
      "text/html": [
       "<table class='petl'>\n",
       "<thead>\n",
       "<tr>\n",
       "<th>country</th>\n",
       "<th>continent</th>\n",
       "<th>total_pure_alcohol</th>\n",
       "<th>beer</th>\n",
       "<th>spirit</th>\n",
       "<th>wine</th>\n",
       "<th>total_serving</th>\n",
       "</tr>\n",
       "</thead>\n",
       "<tbody>\n",
       "<tr>\n",
       "<td>Afghanistan</td>\n",
       "<td>AS</td>\n",
       "<td style='text-align: right'>0.0</td>\n",
       "<td style='text-align: right'>0</td>\n",
       "<td style='text-align: right'>0</td>\n",
       "<td style='text-align: right'>0</td>\n",
       "<td style='text-align: right'>0</td>\n",
       "</tr>\n",
       "<tr>\n",
       "<td>Albania</td>\n",
       "<td>EU</td>\n",
       "<td style='text-align: right'>4.9</td>\n",
       "<td style='text-align: right'>89</td>\n",
       "<td style='text-align: right'>132</td>\n",
       "<td style='text-align: right'>54</td>\n",
       "<td style='text-align: right'>275</td>\n",
       "</tr>\n",
       "<tr>\n",
       "<td>Algeria</td>\n",
       "<td>AF</td>\n",
       "<td style='text-align: right'>0.7</td>\n",
       "<td style='text-align: right'>25</td>\n",
       "<td style='text-align: right'>0</td>\n",
       "<td style='text-align: right'>14</td>\n",
       "<td style='text-align: right'>39</td>\n",
       "</tr>\n",
       "<tr>\n",
       "<td>Andorra</td>\n",
       "<td>EU</td>\n",
       "<td style='text-align: right'>12.4</td>\n",
       "<td style='text-align: right'>245</td>\n",
       "<td style='text-align: right'>138</td>\n",
       "<td style='text-align: right'>312</td>\n",
       "<td style='text-align: right'>695</td>\n",
       "</tr>\n",
       "<tr>\n",
       "<td>Angola</td>\n",
       "<td>AF</td>\n",
       "<td style='text-align: right'>5.9</td>\n",
       "<td style='text-align: right'>217</td>\n",
       "<td style='text-align: right'>57</td>\n",
       "<td style='text-align: right'>45</td>\n",
       "<td style='text-align: right'>319</td>\n",
       "</tr>\n",
       "</tbody>\n",
       "</table>\n",
       "<p><strong>...</strong></p>"
      ]
     },
     "metadata": {},
     "output_type": "display_data"
    },
    {
     "data": {
      "text/html": [
       "<table class='petl'>\n",
       "<thead>\n",
       "<tr>\n",
       "<th>continent</th>\n",
       "<th>value</th>\n",
       "</tr>\n",
       "</thead>\n",
       "<tbody>\n",
       "<tr>\n",
       "<td>None</td>\n",
       "<td style='text-align: right'>665</td>\n",
       "</tr>\n",
       "<tr>\n",
       "<td>AF</td>\n",
       "<td style='text-align: right'>504</td>\n",
       "</tr>\n",
       "<tr>\n",
       "<td>AS</td>\n",
       "<td style='text-align: right'>646</td>\n",
       "</tr>\n",
       "<tr>\n",
       "<td>EU</td>\n",
       "<td style='text-align: right'>695</td>\n",
       "</tr>\n",
       "<tr>\n",
       "<td>OC</td>\n",
       "<td style='text-align: right'>545</td>\n",
       "</tr>\n",
       "<tr>\n",
       "<td>SA</td>\n",
       "<td style='text-align: right'>439</td>\n",
       "</tr>\n",
       "</tbody>\n",
       "</table>\n"
      ]
     },
     "metadata": {},
     "output_type": "display_data"
    }
   ],
   "source": [
    "# Toepassing van de aggregate functie om het maximum aantal servings te vinden per continent\n",
    "t5.display(5)\n",
    "t5.aggregate('continent', max,'total_serving').displayall()"
   ]
  },
  {
   "cell_type": "markdown",
   "metadata": {},
   "source": [
    "## Load "
   ]
  },
  {
   "cell_type": "markdown",
   "metadata": {},
   "source": [
    "Wij kunnen de output bewaren op meerdere manieren. Wij starten met een uitvoer -> CSV"
   ]
  },
  {
   "cell_type": "code",
   "execution_count": 29,
   "metadata": {},
   "outputs": [],
   "source": [
    "# countries -> csv\n",
    "out_countries.tocsv('out_countries.csv')\n",
    "# servings -> csv\n",
    "out_servings.tocsv('out_servings.csv')\n"
   ]
  },
  {
   "cell_type": "markdown",
   "metadata": {},
   "source": [
    "Vervolgens werken wij met de MySQL cursor om de data te laden"
   ]
  },
  {
   "cell_type": "code",
   "execution_count": 32,
   "metadata": {},
   "outputs": [],
   "source": [
    "import MySQLdb as mdb"
   ]
  },
  {
   "cell_type": "code",
   "execution_count": 33,
   "metadata": {},
   "outputs": [],
   "source": [
    "user = 'root'\n",
    "passwd = 'admin'"
   ]
  },
  {
   "cell_type": "code",
   "execution_count": 34,
   "metadata": {},
   "outputs": [],
   "source": [
    "con = mdb.connect(host='127.0.0.1', user=user, passwd=passwd)\n",
    "cur = con.cursor()"
   ]
  },
  {
   "cell_type": "markdown",
   "metadata": {},
   "source": [
    "Maken en gebruiken van het db schema"
   ]
  },
  {
   "cell_type": "code",
   "execution_count": 35,
   "metadata": {},
   "outputs": [
    {
     "data": {
      "text/plain": [
       "0"
      ]
     },
     "execution_count": 35,
     "metadata": {},
     "output_type": "execute_result"
    }
   ],
   "source": [
    "cur.execute('DROP SCHEMA IF EXISTS drinks')\n",
    "cur.execute('CREATE SCHEMA IF NOT EXISTS drinks')\n",
    "cur.execute('USE drinks')\n",
    "cur.execute('SET SQL_MODE=ANSI_QUOTES') #belangrijk voor petl"
   ]
  },
  {
   "cell_type": "code",
   "execution_count": 36,
   "metadata": {},
   "outputs": [],
   "source": [
    "out_countries.todb(cur,'countries',schema='drinks',create='True')"
   ]
  },
  {
   "cell_type": "code",
   "execution_count": 37,
   "metadata": {},
   "outputs": [],
   "source": [
    "out_servings.todb(cur,'serving',schema='drinks',create='True')"
   ]
  },
  {
   "cell_type": "markdown",
   "metadata": {},
   "source": [
    "Toevoegen van data aan de bestaande tabellen"
   ]
  },
  {
   "cell_type": "code",
   "execution_count": 39,
   "metadata": {},
   "outputs": [],
   "source": [
    "addition = [{'country':'Neverland', 'continent':None, 'total_pure_alcohol':0, 'total_serving':0}]"
   ]
  },
  {
   "cell_type": "code",
   "execution_count": 40,
   "metadata": {},
   "outputs": [
    {
     "data": {
      "text/html": [
       "<table class='petl'>\n",
       "<thead>\n",
       "<tr>\n",
       "<th>country</th>\n",
       "<th>continent</th>\n",
       "<th>total_pure_alcohol</th>\n",
       "<th>total_serving</th>\n",
       "</tr>\n",
       "</thead>\n",
       "<tbody>\n",
       "<tr>\n",
       "<td>Neverland</td>\n",
       "<td>None</td>\n",
       "<td style='text-align: right'>0</td>\n",
       "<td style='text-align: right'>0</td>\n",
       "</tr>\n",
       "</tbody>\n",
       "</table>\n"
      ]
     },
     "metadata": {},
     "output_type": "display_data"
    }
   ],
   "source": [
    "add_table = etl.fromdicts(addition) #creatie van table object uit een dictionary\n",
    "add_table.display(10)"
   ]
  },
  {
   "cell_type": "code",
   "execution_count": 41,
   "metadata": {},
   "outputs": [],
   "source": [
    "add_table.appenddb(cur, 'countries', schema='drinks', commit=True)"
   ]
  },
  {
   "cell_type": "markdown",
   "metadata": {},
   "source": [
    "Opzoeken van data via een select statement"
   ]
  },
  {
   "cell_type": "code",
   "execution_count": 42,
   "metadata": {},
   "outputs": [
    {
     "data": {
      "text/plain": [
       "12"
      ]
     },
     "execution_count": 42,
     "metadata": {},
     "output_type": "execute_result"
    }
   ],
   "source": [
    "cur.execute(\"\"\" SELECT * FROM drinks.countries WHERE country like 'N%' ;\"\"\")"
   ]
  },
  {
   "cell_type": "code",
   "execution_count": 43,
   "metadata": {},
   "outputs": [
    {
     "name": "stdout",
     "output_type": "stream",
     "text": [
      "(('North Korea', 'AS', 0.0, 0), ('Namibia', 'AF', 6.8, 380), ('Nauru', 'OC', 1.0, 57), ('Nepal', 'AS', 0.2, 11), ('Netherlands', 'EU', 9.4, 529), ('New Zealand', 'OC', 9.3, 457), ('Nicaragua', None, 3.5, 197), ('Niger', 'AF', 0.1, 6), ('Nigeria', 'AF', 9.1, 49), ('Niue', 'OC', 7.0, 395), ('Norway', 'EU', 6.7, 369), ('Neverland', None, 0.0, 0))\n"
     ]
    }
   ],
   "source": [
    "print(cur.fetchall())"
   ]
  },
  {
   "cell_type": "code",
   "execution_count": null,
   "metadata": {},
   "outputs": [],
   "source": []
  }
 ],
 "metadata": {
  "kernelspec": {
   "display_name": "Python 3",
   "language": "python",
   "name": "python3"
  },
  "language_info": {
   "codemirror_mode": {
    "name": "ipython",
    "version": 3
   },
   "file_extension": ".py",
   "mimetype": "text/x-python",
   "name": "python",
   "nbconvert_exporter": "python",
   "pygments_lexer": "ipython3",
   "version": "3.7.6"
  }
 },
 "nbformat": 4,
 "nbformat_minor": 4
}
